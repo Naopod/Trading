{
 "cells": [
  {
   "cell_type": "code",
   "execution_count": 280,
   "metadata": {},
   "outputs": [],
   "source": [
    "## Import modules\n",
    "\n",
    "from backtesting import Backtest, Strategy\n",
    "from backtesting.lib import crossover, plot_heatmaps, resample_apply\n",
    "from backtesting.test import GOOG\n",
    "import MetaTrader5 as mt\n",
    "import pandas as pd\n",
    "import pandas_ta as ta\n",
    "from datetime import datetime\n",
    "import matplotlib.pyplot as plt\n",
    "from math import sqrt\n",
    "import seaborn as sns\n",
    "import numpy as np"
   ]
  },
  {
   "cell_type": "code",
   "execution_count": 279,
   "metadata": {},
   "outputs": [
    {
     "data": {
      "text/plain": [
       "True"
      ]
     },
     "execution_count": 279,
     "metadata": {},
     "output_type": "execute_result"
    }
   ],
   "source": [
    "## Sync to MetaTrader5\n",
    "\n",
    "mt.initialize()"
   ]
  },
  {
   "cell_type": "code",
   "execution_count": 232,
   "metadata": {},
   "outputs": [],
   "source": [
    "## Extract data we want to work on\n",
    "\n",
    "df = pd.DataFrame(mt.copy_rates_range('[NQ100]', \n",
    "                                            mt.TIMEFRAME_M5, \n",
    "                                            datetime(2023, 5, 1), \n",
    "                                            datetime.now()))\n",
    "\n",
    "df['time'] = pd.to_datetime(df['time'], unit='s')\n",
    "df=df[['time', 'open', 'high', 'low', 'close']]\n",
    "df.columns = ['Datetime', 'Open', 'High', 'Low', 'Close']\n",
    "df=df.set_index('Datetime')"
   ]
  },
  {
   "cell_type": "code",
   "execution_count": 233,
   "metadata": {},
   "outputs": [],
   "source": [
    "## QUICKSTART"
   ]
  },
  {
   "cell_type": "code",
   "execution_count": 351,
   "metadata": {},
   "outputs": [],
   "source": [
    "## Functions to get indicators\n",
    "\n",
    "def SMA(array, n):\n",
    "    \"\"\"Simple moving average\"\"\"\n",
    "    return pd.Series(array).rolling(n).mean()\n",
    "\n",
    "\n",
    "def RSI(array, n):\n",
    "    \"\"\"Relative strength index\"\"\"\n",
    "    gain = pd.Series(array).diff()\n",
    "    loss = gain.copy()\n",
    "    gain[gain < 0] = 0\n",
    "    loss[loss > 0] = 0\n",
    "    rs = gain.ewm(span=n, min_periods=n).mean() / loss.abs().ewm(span=n, min_periods=n).mean()\n",
    "    return 100 - 100 / (1 + rs)\n",
    "\n",
    "def MA_RSI(array, n):\n",
    "    gain = pd.Series(array).diff()\n",
    "    loss = gain.copy()\n",
    "    gain[gain < 0] = 0\n",
    "    loss[loss > 0] = 0\n",
    "    rs = (gain.ewm(span=n, min_periods=n).mean() / loss.abs().ewm(span=n, min_periods=n).mean()).rolling(10).mean()\n",
    "    return 100 - 100 / (1 + rs)\n",
    "\n",
    "def get_fdi(data, n):\n",
    "    close = data['close']\n",
    "    highest = np.max(data['high'])\n",
    "    lowest = np.min(data['low'])\n",
    "    length = 0\n",
    "    pdiff = 0\n",
    "    \n",
    "    for period in range(n) :\n",
    "        if (highest - lowest) > 0:\n",
    "            diff = (close[period] - lowest) / (highest - lowest)\n",
    "            if period > 0 :\n",
    "                length += sqrt((diff - pdiff) ** 2 + 1 / (n ** 2))\n",
    "            pdiff = diff\n",
    "    \n",
    "    if length > 0 :\n",
    "        fdi = 1 + np.log(2 * length) / np.log(2 * n)\n",
    "    else :\n",
    "        fdi = 0\n",
    "        \n",
    "    return fdi\n"
   ]
  },
  {
   "cell_type": "code",
   "execution_count": 352,
   "metadata": {},
   "outputs": [],
   "source": [
    "class SignalStrategy(Strategy):\n",
    "\n",
    "    ## Params to Optimize on\n",
    "\n",
    "    rsi_period = 14\n",
    "    ma1_period = 21\n",
    "    ma2_period = 50\n",
    "    ma3_period = 100\n",
    "    fdi_period = 14\n",
    "\n",
    "    def init(self):\n",
    "\n",
    "        self.ma21 = self.I(SMA, self.data.Close, self.ma1_period)\n",
    "        self.ma50 = self.I(SMA, self.data.Close, self.ma2_period)\n",
    "        self.ma100 = self.I(SMA, self.data.Close, self.ma3_period)\n",
    "\n",
    "        self.rsi = self.I(RSI, self.data.Close, self.rsi_period)\n",
    "        self.ma_rsi = self.I(MA_RSI, self.data.Close, self.rsi_period)\n",
    "\n",
    "    def next(self):\n",
    "\n",
    "        price = self.data.Close[-1]\n",
    "\n",
    "        if (not self.position and price > self.ma21[-1] and price > self.ma50[-1] and price > self.ma100[-1] and self.rsi[-1] > 50):\n",
    "            self.buy()\n",
    "        else:\n",
    "            self.sell()\n",
    "            "
   ]
  },
  {
   "cell_type": "code",
   "execution_count": 353,
   "metadata": {},
   "outputs": [],
   "source": [
    "bt = Backtest(df, SignalStrategy, cash=10_000)"
   ]
  },
  {
   "cell_type": "code",
   "execution_count": 354,
   "metadata": {},
   "outputs": [
    {
     "name": "stdout",
     "output_type": "stream",
     "text": [
      "     Size  EntryBar  ExitBar  EntryPrice  ExitPrice        PnL  ReturnPct           EntryTime            ExitTime         Duration\n",
      "0      -2      6452     6492     1.06611    1.06866   -0.00510  -0.002392 2023-05-31 11:55:00 2023-05-31 15:15:00  0 days 03:20:00\n",
      "1      -5      6451     6492     1.06636    1.06866   -0.01150  -0.002157 2023-05-31 11:50:00 2023-05-31 15:15:00  0 days 03:25:00\n",
      "2      -2      6450     6492     1.06646    1.06866   -0.00440  -0.002063 2023-05-31 11:45:00 2023-05-31 15:15:00  0 days 03:30:00\n",
      "3      -1      6449     6492     1.06652    1.06866   -0.00214  -0.002007 2023-05-31 11:40:00 2023-05-31 15:15:00  0 days 03:35:00\n",
      "4      -2      6448     6492     1.06697    1.06866   -0.00338  -0.001584 2023-05-31 11:35:00 2023-05-31 15:15:00  0 days 03:40:00\n",
      "5      -6      6443     6492     1.06696    1.06866   -0.01020  -0.001593 2023-05-31 11:10:00 2023-05-31 15:15:00  0 days 04:05:00\n",
      "6      -3      6442     6492     1.06714    1.06866   -0.00456  -0.001424 2023-05-31 11:05:00 2023-05-31 15:15:00  0 days 04:10:00\n",
      "7      -2      6441     6492     1.06737    1.06866   -0.00258  -0.001209 2023-05-31 11:00:00 2023-05-31 15:15:00  0 days 04:15:00\n",
      "8      -4      6437     6492     1.06768    1.06866   -0.00392  -0.000918 2023-05-31 10:40:00 2023-05-31 15:15:00  0 days 04:35:00\n",
      "9      -1      6432     6492     1.06771    1.06866   -0.00095  -0.000890 2023-05-31 10:15:00 2023-05-31 15:15:00  0 days 05:00:00\n",
      "10     -4      6148     6492     1.06772    1.06866   -0.00376  -0.000880 2023-05-30 10:30:00 2023-05-31 15:15:00  1 days 04:45:00\n",
      "11     -3      6147     6492     1.06791    1.06866   -0.00225  -0.000702 2023-05-30 10:25:00 2023-05-31 15:15:00  1 days 04:50:00\n",
      "12     -5      6146     6492     1.06869    1.06866    0.00015   0.000028 2023-05-30 10:20:00 2023-05-31 15:15:00  1 days 04:55:00\n",
      "13     -5      6128     6492     1.06846    1.06866   -0.00100  -0.000187 2023-05-30 08:50:00 2023-05-31 15:15:00  1 days 06:25:00\n",
      "14     -5      6127     6492     1.06873    1.06866    0.00035   0.000065 2023-05-30 08:45:00 2023-05-31 15:15:00  1 days 06:30:00\n",
      "15     -1      6126     6492     1.06921    1.06866    0.00055   0.000514 2023-05-30 08:40:00 2023-05-31 15:15:00  1 days 06:35:00\n",
      "16    -26      6122     6492     1.07022    1.06866    0.04056   0.001458 2023-05-30 08:20:00 2023-05-31 15:15:00  1 days 06:55:00\n",
      "17     -4      5667     6492     1.07044    1.06866    0.00712   0.001663 2023-05-26 18:15:00 2023-05-31 15:15:00  4 days 21:00:00\n",
      "18     -1      5666     6492     1.07067    1.06866    0.00201   0.001877 2023-05-26 18:10:00 2023-05-31 15:15:00  4 days 21:05:00\n",
      "19     -7      5663     6492     1.07091    1.06866    0.01575   0.002101 2023-05-26 17:55:00 2023-05-31 15:15:00  4 days 21:20:00\n",
      "20     -1      5662     6492     1.07166    1.06866    0.00300   0.002799 2023-05-26 17:50:00 2023-05-31 15:15:00  4 days 21:25:00\n",
      "21     -1      5361     6492     1.07105    1.06866    0.00239   0.002231 2023-05-25 16:40:00 2023-05-31 15:15:00  5 days 22:35:00\n",
      "22     -7      5360     6492     1.07167    1.06866    0.02107   0.002809 2023-05-25 16:35:00 2023-05-31 15:15:00  5 days 22:40:00\n",
      "23     -9      5291     6492     1.07222    1.06866    0.03204   0.003320 2023-05-25 10:50:00 2023-05-31 15:15:00  6 days 04:25:00\n",
      "24     -8      5283     6492     1.07233    1.06866    0.02936   0.003422 2023-05-25 10:10:00 2023-05-31 15:15:00  6 days 05:05:00\n",
      "25     -5      5282     6492     1.07257    1.06866    0.01955   0.003645 2023-05-25 10:05:00 2023-05-31 15:15:00  6 days 05:10:00\n",
      "26     -5      5281     6492     1.07319    1.06866    0.02265   0.004221 2023-05-25 10:00:00 2023-05-31 15:15:00  6 days 05:15:00\n",
      "27     -2      5270     6492     1.07304    1.06866    0.00876   0.004082 2023-05-25 09:05:00 2023-05-31 15:15:00  6 days 06:10:00\n",
      "28     -5      5269     6492     1.07393    1.06866    0.02635   0.004907 2023-05-25 09:00:00 2023-05-31 15:15:00  6 days 06:15:00\n",
      "29     -5      5254     6492     1.07360    1.06866    0.02470   0.004601 2023-05-25 07:45:00 2023-05-31 15:15:00  6 days 07:30:00\n",
      "30     -1      5253     6492     1.07376    1.06866    0.00510   0.004750 2023-05-25 07:40:00 2023-05-31 15:15:00  6 days 07:35:00\n",
      "31     -1      5240     6492     1.07370    1.06866    0.00504   0.004694 2023-05-25 06:35:00 2023-05-31 15:15:00  6 days 08:40:00\n",
      "32     -1      5238     6492     1.07375    1.06866    0.00509   0.004740 2023-05-25 06:25:00 2023-05-31 15:15:00  6 days 08:50:00\n",
      "33     -4      5237     6492     1.07405    1.06866    0.02156   0.005018 2023-05-25 06:20:00 2023-05-31 15:15:00  6 days 08:55:00\n",
      "34     -1      5234     6492     1.07406    1.06866    0.00540   0.005028 2023-05-25 06:05:00 2023-05-31 15:15:00  6 days 09:10:00\n",
      "35     -1      5233     6492     1.07414    1.06866    0.00548   0.005102 2023-05-25 06:00:00 2023-05-31 15:15:00  6 days 09:15:00\n",
      "36     -3      5217     6492     1.07428    1.06866    0.01686   0.005231 2023-05-25 04:40:00 2023-05-31 15:15:00  6 days 10:35:00\n",
      "37     -2      5216     6492     1.07447    1.06866    0.01162   0.005407 2023-05-25 04:35:00 2023-05-31 15:15:00  6 days 10:40:00\n",
      "38     -1      5213     6492     1.07458    1.06866    0.00592   0.005509 2023-05-25 04:20:00 2023-05-31 15:15:00  6 days 10:55:00\n",
      "39     -3      5177     6492     1.07461    1.06866    0.01785   0.005537 2023-05-25 01:20:00 2023-05-31 15:15:00  6 days 13:55:00\n",
      "40     -4      5176     6492     1.07485    1.06866    0.02476   0.005759 2023-05-25 01:15:00 2023-05-31 15:15:00  6 days 14:00:00\n",
      "41     -1      5175     6492     1.07515    1.06866    0.00649   0.006036 2023-05-25 01:10:00 2023-05-31 15:15:00  6 days 14:05:00\n",
      "42     -1      5161     6492     1.07504    1.06866    0.00638   0.005935 2023-05-24 23:55:00 2023-05-31 15:15:00  6 days 15:20:00\n",
      "43     -1      5149     6492     1.07520    1.06866    0.00654   0.006083 2023-05-24 22:55:00 2023-05-31 15:15:00  6 days 16:20:00\n",
      "44     -4      5036     6492     1.07520    1.06866    0.02616   0.006083 2023-05-24 13:30:00 2023-05-31 15:15:00  7 days 01:45:00\n",
      "45     -1      5035     6492     1.07545    1.06866    0.00679   0.006314 2023-05-24 13:25:00 2023-05-31 15:15:00  7 days 01:50:00\n",
      "46     -7      5033     6492     1.07565    1.06866    0.04893   0.006498 2023-05-24 13:15:00 2023-05-31 15:15:00  7 days 02:00:00\n",
      "47     -4      5032     6492     1.07590    1.06866    0.02896   0.006729 2023-05-24 13:10:00 2023-05-31 15:15:00  7 days 02:05:00\n",
      "48     -3      5031     6492     1.07667    1.06866    0.02403   0.007440 2023-05-24 13:05:00 2023-05-31 15:15:00  7 days 02:10:00\n",
      "49     -1      4818     6492     1.07612    1.06866    0.00746   0.006932 2023-05-23 19:15:00 2023-05-31 15:15:00  7 days 20:00:00\n",
      "50     -2      4071     6492     1.07647    1.06866    0.01562   0.007255 2023-05-19 04:30:00 2023-05-31 15:15:00 12 days 10:45:00\n",
      "51     -1      3972     6492     1.07630    1.06866    0.00764   0.007098 2023-05-18 20:10:00 2023-05-31 15:15:00 12 days 19:05:00\n",
      "52     -1      3969     6492     1.07633    1.06866    0.00767   0.007126 2023-05-18 19:55:00 2023-05-31 15:15:00 12 days 19:20:00\n",
      "53     -2      3968     6492     1.07648    1.06866    0.01564   0.007264 2023-05-18 19:50:00 2023-05-31 15:15:00 12 days 19:25:00\n",
      "54     -1      3967     6492     1.07655    1.06866    0.00789   0.007329 2023-05-18 19:45:00 2023-05-31 15:15:00 12 days 19:30:00\n",
      "55     -5      3947     6492     1.07694    1.06866    0.04140   0.007688 2023-05-18 18:05:00 2023-05-31 15:15:00 12 days 21:10:00\n",
      "56     -5      3944     6492     1.07708    1.06866    0.04210   0.007817 2023-05-18 17:50:00 2023-05-31 15:15:00 12 days 21:25:00\n",
      "57     -2      3943     6492     1.07718    1.06866    0.01704   0.007910 2023-05-18 17:45:00 2023-05-31 15:15:00 12 days 21:30:00\n",
      "58     -5      3942     6492     1.07748    1.06866    0.04410   0.008186 2023-05-18 17:40:00 2023-05-31 15:15:00 12 days 21:35:00\n",
      "59     -3      3941     6492     1.07831    1.06866    0.02895   0.008949 2023-05-18 17:35:00 2023-05-31 15:15:00 12 days 21:40:00\n",
      "60     -2      3934     6492     1.07777    1.06866    0.01822   0.008453 2023-05-18 17:00:00 2023-05-31 15:15:00 12 days 22:15:00\n",
      "61     -5      3933     6492     1.07814    1.06866    0.04740   0.008793 2023-05-18 16:55:00 2023-05-31 15:15:00 12 days 22:20:00\n",
      "62     -5      3931     6492     1.07832    1.06866    0.04830   0.008958 2023-05-18 16:45:00 2023-05-31 15:15:00 12 days 22:30:00\n",
      "63     -1      3930     6492     1.07836    1.06866    0.00970   0.008995 2023-05-18 16:40:00 2023-05-31 15:15:00 12 days 22:35:00\n",
      "64     -3      3929     6492     1.07859    1.06866    0.02979   0.009206 2023-05-18 16:35:00 2023-05-31 15:15:00 12 days 22:40:00\n",
      "65     -8      3919     6492     1.07961    1.06866    0.08760   0.010143 2023-05-18 15:45:00 2023-05-31 15:15:00 12 days 23:30:00\n",
      "66     -6      3917     6492     1.07937    1.06866    0.06426   0.009922 2023-05-18 15:35:00 2023-05-31 15:15:00 12 days 23:40:00\n",
      "67    -24      3916     6492     1.08113    1.06866    0.29928   0.011534 2023-05-18 15:30:00 2023-05-31 15:15:00 12 days 23:45:00\n",
      "68     -5      3879     6492     1.08102    1.06866    0.06180   0.011434 2023-05-18 12:25:00 2023-05-31 15:15:00 13 days 02:50:00\n",
      "69     -2      3878     6492     1.08124    1.06866    0.02516   0.011635 2023-05-18 12:20:00 2023-05-31 15:15:00 13 days 02:55:00\n",
      "70     -6      3647     6492     1.08154    1.06866    0.07728   0.011909 2023-05-17 17:00:00 2023-05-31 15:15:00 13 days 22:15:00\n",
      "71     -4      3646     6492     1.08176    1.06866    0.05240   0.012110 2023-05-17 16:55:00 2023-05-31 15:15:00 13 days 22:20:00\n",
      "72     -7      3630     6492     1.08224    1.06866    0.09506   0.012548 2023-05-17 15:35:00 2023-05-31 15:15:00 13 days 23:40:00\n",
      "73     -8      3589     6492     1.08258    1.06866    0.11136   0.012858 2023-05-17 12:10:00 2023-05-31 15:15:00 14 days 03:05:00\n",
      "74     -1      3588     6492     1.08261    1.06866    0.01395   0.012886 2023-05-17 12:05:00 2023-05-31 15:15:00 14 days 03:10:00\n",
      "75     -4      3587     6492     1.08289    1.06866    0.05692   0.013141 2023-05-17 12:00:00 2023-05-31 15:15:00 14 days 03:15:00\n",
      "76     -5      3586     6492     1.08339    1.06866    0.07365   0.013596 2023-05-17 11:55:00 2023-05-31 15:15:00 14 days 03:20:00\n",
      "77     -3      3574     6492     1.08334    1.06866    0.04404   0.013551 2023-05-17 10:55:00 2023-05-31 15:15:00 14 days 04:20:00\n",
      "78    -14      3572     6492     1.08414    1.06866    0.21672   0.014279 2023-05-17 10:45:00 2023-05-31 15:15:00 14 days 04:30:00\n",
      "79     -2      3571     6492     1.08423    1.06866    0.03114   0.014360 2023-05-17 10:40:00 2023-05-31 15:15:00 14 days 04:35:00\n",
      "80     -2      3570     6492     1.08444    1.06866    0.03156   0.014551 2023-05-17 10:35:00 2023-05-31 15:15:00 14 days 04:40:00\n",
      "81     -4      3568     6492     1.08463    1.06866    0.06388   0.014724 2023-05-17 10:25:00 2023-05-31 15:15:00 14 days 04:50:00\n",
      "82     -5      2881     6492     1.08536    1.06866    0.08350   0.015387 2023-05-15 01:00:00 2023-05-31 15:15:00 16 days 14:15:00\n",
      "83     -3      2818     6492     1.08508    1.06866    0.04926   0.015133 2023-05-12 19:40:00 2023-05-31 15:15:00 18 days 19:35:00\n",
      "84     -1      2817     6492     1.08524    1.06866    0.01658   0.015278 2023-05-12 19:35:00 2023-05-31 15:15:00 18 days 19:40:00\n",
      "85     -3      2815     6492     1.08540    1.06866    0.05022   0.015423 2023-05-12 19:25:00 2023-05-31 15:15:00 18 days 19:50:00\n",
      "86     -2      2813     6492     1.08546    1.06866    0.03360   0.015477 2023-05-12 19:15:00 2023-05-31 15:15:00 18 days 20:00:00\n",
      "87     -2      2810     6492     1.08552    1.06866    0.03372   0.015532 2023-05-12 19:00:00 2023-05-31 15:15:00 18 days 20:15:00\n",
      "88     -6      2807     6492     1.08596    1.06866    0.10380   0.015931 2023-05-12 18:45:00 2023-05-31 15:15:00 18 days 20:30:00\n",
      "89     -1      2805     6492     1.08612    1.06866    0.01746   0.016076 2023-05-12 18:35:00 2023-05-31 15:15:00 18 days 20:40:00\n",
      "90     -3      2800     6492     1.08613    1.06866    0.05241   0.016085 2023-05-12 18:10:00 2023-05-31 15:15:00 18 days 21:05:00\n",
      "91     -2      2799     6492     1.08622    1.06866    0.03512   0.016166 2023-05-12 18:05:00 2023-05-31 15:15:00 18 days 21:10:00\n",
      "92     -9      2797     6492     1.08678    1.06866    0.16308   0.016673 2023-05-12 17:55:00 2023-05-31 15:15:00 18 days 21:20:00\n",
      "93     -7      2796     6492     1.08717    1.06866    0.12957   0.017026 2023-05-12 17:50:00 2023-05-31 15:15:00 18 days 21:25:00\n",
      "94     -4      2795     6492     1.08739    1.06866    0.07492   0.017225 2023-05-12 17:45:00 2023-05-31 15:15:00 18 days 21:30:00\n",
      "95     -2      2794     6492     1.08753    1.06866    0.03774   0.017351 2023-05-12 17:40:00 2023-05-31 15:15:00 18 days 21:35:00\n",
      "96     -3      2793     6492     1.08767    1.06866    0.05703   0.017478 2023-05-12 17:35:00 2023-05-31 15:15:00 18 days 21:40:00\n",
      "97     -2      2792     6492     1.08808    1.06866    0.03884   0.017848 2023-05-12 17:30:00 2023-05-31 15:15:00 18 days 21:45:00\n",
      "98     -4      2790     6492     1.08833    1.06866    0.07868   0.018074 2023-05-12 17:20:00 2023-05-31 15:15:00 18 days 21:55:00\n",
      "99     -2      2782     6492     1.08816    1.06866    0.03900   0.017920 2023-05-12 16:40:00 2023-05-31 15:15:00 18 days 22:35:00\n",
      "100    -2      2781     6492     1.08876    1.06866    0.04020   0.018461 2023-05-12 16:35:00 2023-05-31 15:15:00 18 days 22:40:00\n",
      "101    -5      2769     6492     1.08859    1.06866    0.09965   0.018308 2023-05-12 15:35:00 2023-05-31 15:15:00 18 days 23:40:00\n",
      "102    -3      2768     6492     1.08880    1.06866    0.06042   0.018497 2023-05-12 15:30:00 2023-05-31 15:15:00 18 days 23:45:00\n",
      "103    -3      2766     6492     1.08899    1.06866    0.06099   0.018669 2023-05-12 15:20:00 2023-05-31 15:15:00 18 days 23:55:00\n",
      "104    -2      2764     6492     1.08914    1.06866    0.04096   0.018804 2023-05-12 15:10:00 2023-05-31 15:15:00 19 days 00:05:00\n",
      "105    -5      2755     6492     1.08971    1.06866    0.10525   0.019317 2023-05-12 14:25:00 2023-05-31 15:15:00 19 days 00:50:00\n",
      "106   -12      2753     6492     1.09031    1.06866    0.25980   0.019857 2023-05-12 14:15:00 2023-05-31 15:15:00 19 days 01:00:00\n",
      "107    -2      2499     6492     1.09012    1.06866    0.04292   0.019686 2023-05-11 17:00:00 2023-05-31 15:15:00 19 days 22:15:00\n",
      "108    -4      2498     6492     1.09036    1.06866    0.08680   0.019902 2023-05-11 16:55:00 2023-05-31 15:15:00 19 days 22:20:00\n",
      "109    -2      2497     6492     1.09051    1.06866    0.04370   0.020036 2023-05-11 16:50:00 2023-05-31 15:15:00 19 days 22:25:00\n",
      "110    -6      2496     6492     1.09086    1.06866    0.13320   0.020351 2023-05-11 16:45:00 2023-05-31 15:15:00 19 days 22:30:00\n",
      "111    -1      2495     6492     1.09092    1.06866    0.02226   0.020405 2023-05-11 16:40:00 2023-05-31 15:15:00 19 days 22:35:00\n",
      "112   -14      2494     6492     1.09176    1.06866    0.32340   0.021158 2023-05-11 16:35:00 2023-05-31 15:15:00 19 days 22:40:00\n",
      "113    -1      2493     6492     1.09181    1.06866    0.02315   0.021203 2023-05-11 16:30:00 2023-05-31 15:15:00 19 days 22:45:00\n",
      "114    -3      2492     6492     1.09198    1.06866    0.06996   0.021356 2023-05-11 16:25:00 2023-05-31 15:15:00 19 days 22:50:00\n",
      "115    -2      2456     6492     1.09227    1.06866    0.04722   0.021616 2023-05-11 13:25:00 2023-05-31 15:15:00 20 days 01:50:00\n",
      "116    -8      2427     6492     1.09298    1.06866    0.19456   0.022251 2023-05-11 11:00:00 2023-05-31 15:15:00 20 days 04:15:00\n",
      "117    -4      2416     6492     1.09282    1.06866    0.09664   0.022108 2023-05-11 10:05:00 2023-05-31 15:15:00 20 days 05:10:00\n",
      "118    -4      2415     6492     1.09301    1.06866    0.09740   0.022278 2023-05-11 10:00:00 2023-05-31 15:15:00 20 days 05:15:00\n",
      "119   -22      2414     6492     1.09457    1.06866    0.57002   0.023671 2023-05-11 09:55:00 2023-05-31 15:15:00 20 days 05:20:00\n",
      "120    -9       489     6492     1.09540    1.06866    0.24066   0.024411 2023-05-02 16:55:00 2023-05-31 15:15:00 28 days 22:20:00\n",
      "121    -3       480     6492     1.09528    1.06866    0.07986   0.024304 2023-05-02 16:10:00 2023-05-31 15:15:00 28 days 23:05:00\n",
      "122    -3       442     6492     1.09524    1.06866    0.07974   0.024269 2023-05-02 13:00:00 2023-05-31 15:15:00 29 days 02:15:00\n",
      "123    -4       441     6492     1.09569    1.06866    0.10812   0.024669 2023-05-02 12:55:00 2023-05-31 15:15:00 29 days 02:20:00\n",
      "124    -6       435     6492     1.09585    1.06866    0.16314   0.024812 2023-05-02 12:25:00 2023-05-31 15:15:00 29 days 02:50:00\n",
      "125   -10       434     6492     1.09692    1.06866    0.28260   0.025763 2023-05-02 12:20:00 2023-05-31 15:15:00 29 days 02:55:00\n",
      "126    -3       229     6492     1.09665    1.06866    0.08397   0.025523 2023-05-01 19:10:00 2023-05-31 15:15:00 29 days 20:05:00\n",
      "127    -2       228     6492     1.09690    1.06866    0.05648   0.025745 2023-05-01 19:05:00 2023-05-31 15:15:00 29 days 20:10:00\n",
      "128    -1       225     6492     1.09696    1.06866    0.02830   0.025799 2023-05-01 18:50:00 2023-05-31 15:15:00 29 days 20:25:00\n",
      "129    -1       223     6492     1.09687    1.06866    0.02821   0.025719 2023-05-01 18:40:00 2023-05-31 15:15:00 29 days 20:35:00\n",
      "130    -2       220     6492     1.09702    1.06866    0.05672   0.025852 2023-05-01 18:25:00 2023-05-31 15:15:00 29 days 20:50:00\n",
      "131    -2       219     6492     1.09736    1.06866    0.05740   0.026154 2023-05-01 18:20:00 2023-05-31 15:15:00 29 days 20:55:00\n",
      "132    -4       217     6492     1.09734    1.06866    0.11472   0.026136 2023-05-01 18:10:00 2023-05-31 15:15:00 29 days 21:05:00\n",
      "133    -2       216     6492     1.09746    1.06866    0.05760   0.026242 2023-05-01 18:05:00 2023-05-31 15:15:00 29 days 21:10:00\n",
      "134    -9       215     6492     1.09812    1.06866    0.26514   0.026828 2023-05-01 18:00:00 2023-05-31 15:15:00 29 days 21:15:00\n",
      "135    -8       211     6492     1.09902    1.06866    0.24288   0.027625 2023-05-01 17:40:00 2023-05-31 15:15:00 29 days 21:35:00\n",
      "136   -10       208     6492     1.09911    1.06866    0.30450   0.027704 2023-05-01 17:25:00 2023-05-31 15:15:00 29 days 21:50:00\n",
      "137    -2       143     6492     1.09919    1.06866    0.06106   0.027775 2023-05-01 12:00:00 2023-05-31 15:15:00 30 days 03:15:00\n",
      "138    -2       142     6492     1.09932    1.06866    0.06132   0.027890 2023-05-01 11:55:00 2023-05-31 15:15:00 30 days 03:20:00\n",
      "139    -1       141     6492     1.09963    1.06866    0.03097   0.028164 2023-05-01 11:50:00 2023-05-31 15:15:00 30 days 03:25:00\n",
      "140    -2       136     6492     1.09958    1.06866    0.06184   0.028120 2023-05-01 11:25:00 2023-05-31 15:15:00 30 days 03:50:00\n",
      "141    -5       111     6492     1.09984    1.06866    0.15590   0.028350 2023-05-01 09:20:00 2023-05-31 15:15:00 30 days 05:55:00\n",
      "142    -7       110     6492     1.10023    1.06866    0.22099   0.028694 2023-05-01 09:15:00 2023-05-31 15:15:00 30 days 06:00:00\n",
      "143    -1       108     6492     1.10060    1.06866    0.03194   0.029021 2023-05-01 09:05:00 2023-05-31 15:15:00 30 days 06:10:00\n",
      "144 -9088       101     6492     1.10030    1.06866  287.54432   0.028756 2023-05-01 08:30:00 2023-05-31 15:15:00 30 days 06:45:00\n"
     ]
    }
   ],
   "source": [
    "stats = bt.run()\n",
    "\n",
    "print(stats['_trades'].to_string())"
   ]
  },
  {
   "cell_type": "code",
   "execution_count": 355,
   "metadata": {},
   "outputs": [
    {
     "name": "stdout",
     "output_type": "stream",
     "text": [
      "Start                     2023-05-01 00:05:00\n",
      "End                       2023-05-31 15:15:00\n",
      "Duration                     30 days 15:10:00\n",
      "Exposure Time [%]                   98.444479\n",
      "Equity Final [$]                  10298.13277\n",
      "Equity Peak [$]                   10322.54373\n",
      "Return [%]                           2.981328\n",
      "Buy & Hold Return [%]               -3.057632\n",
      "Return (Ann.) [%]                   34.319276\n",
      "Volatility (Ann.) [%]                 7.18434\n",
      "Sharpe Ratio                         4.776956\n",
      "Sortino Ratio                       12.660366\n",
      "Calmar Ratio                        25.619983\n",
      "Max. Drawdown [%]                   -1.339551\n",
      "Avg. Drawdown [%]                   -0.134866\n",
      "Max. Drawdown Duration        7 days 22:30:00\n",
      "Avg. Drawdown Duration        0 days 09:01:00\n",
      "# Trades                                  145\n",
      "Win Rate [%]                        91.034483\n",
      "Best Trade [%]                       2.902053\n",
      "Worst Trade [%]                     -0.239187\n",
      "Avg. Trade [%]                       1.268383\n",
      "Max. Trade Duration          30 days 06:45:00\n",
      "Avg. Trade Duration          14 days 15:14:00\n",
      "Profit Factor                      103.472872\n",
      "Expectancy [%]                       1.272491\n",
      "SQN                                  1.030332\n",
      "_strategy                      SignalStrategy\n",
      "_equity_curve                             ...\n",
      "_trades                        Size  Entry...\n",
      "dtype: object\n"
     ]
    }
   ],
   "source": [
    "print(stats)"
   ]
  },
  {
   "cell_type": "code",
   "execution_count": 272,
   "metadata": {},
   "outputs": [
    {
     "name": "stderr",
     "output_type": "stream",
     "text": [
      "C:\\Users\\Utilisateur\\AppData\\Roaming\\Python\\Python311\\site-packages\\backtesting\\_plotting.py:250: UserWarning: DatetimeFormatter scales now only accept a single format. Using the first provided: '%d %b'\n",
      "  formatter=DatetimeTickFormatter(days=['%d %b', '%a %d'],\n",
      "C:\\Users\\Utilisateur\\AppData\\Roaming\\Python\\Python311\\site-packages\\backtesting\\_plotting.py:250: UserWarning: DatetimeFormatter scales now only accept a single format. Using the first provided: '%m/%Y'\n",
      "  formatter=DatetimeTickFormatter(days=['%d %b', '%a %d'],\n"
     ]
    },
    {
     "data": {
      "text/html": [
       "<div style=\"display: table;\"><div style=\"display: table-row;\"><div style=\"display: table-cell;\"><b title=\"bokeh.models.plots.GridPlot\">GridPlot</b>(</div><div style=\"display: table-cell;\">id&nbsp;=&nbsp;'p11838', <span id=\"p12393\" style=\"cursor: pointer;\">&hellip;)</span></div></div><div class=\"p12392\" style=\"display: none;\"><div style=\"display: table-cell;\"></div><div style=\"display: table-cell;\">align&nbsp;=&nbsp;'auto',</div></div><div class=\"p12392\" style=\"display: none;\"><div style=\"display: table-cell;\"></div><div style=\"display: table-cell;\">aspect_ratio&nbsp;=&nbsp;None,</div></div><div class=\"p12392\" style=\"display: none;\"><div style=\"display: table-cell;\"></div><div style=\"display: table-cell;\">children&nbsp;=&nbsp;[(figure(id='p11374', ...), 0, 0), (figure(id='p11487', ...), 1, 0), (figure(id='p11315', ...), 2, 0), (figure(id='p11640', ...), 3, 0)],</div></div><div class=\"p12392\" style=\"display: none;\"><div style=\"display: table-cell;\"></div><div style=\"display: table-cell;\">cols&nbsp;=&nbsp;None,</div></div><div class=\"p12392\" style=\"display: none;\"><div style=\"display: table-cell;\"></div><div style=\"display: table-cell;\">context_menu&nbsp;=&nbsp;None,</div></div><div class=\"p12392\" style=\"display: none;\"><div style=\"display: table-cell;\"></div><div style=\"display: table-cell;\">css_classes&nbsp;=&nbsp;[],</div></div><div class=\"p12392\" style=\"display: none;\"><div style=\"display: table-cell;\"></div><div style=\"display: table-cell;\">disabled&nbsp;=&nbsp;False,</div></div><div class=\"p12392\" style=\"display: none;\"><div style=\"display: table-cell;\"></div><div style=\"display: table-cell;\">flow_mode&nbsp;=&nbsp;'block',</div></div><div class=\"p12392\" style=\"display: none;\"><div style=\"display: table-cell;\"></div><div style=\"display: table-cell;\">height&nbsp;=&nbsp;None,</div></div><div class=\"p12392\" style=\"display: none;\"><div style=\"display: table-cell;\"></div><div style=\"display: table-cell;\">height_policy&nbsp;=&nbsp;'auto',</div></div><div class=\"p12392\" style=\"display: none;\"><div style=\"display: table-cell;\"></div><div style=\"display: table-cell;\">js_event_callbacks&nbsp;=&nbsp;{},</div></div><div class=\"p12392\" style=\"display: none;\"><div style=\"display: table-cell;\"></div><div style=\"display: table-cell;\">js_property_callbacks&nbsp;=&nbsp;{},</div></div><div class=\"p12392\" style=\"display: none;\"><div style=\"display: table-cell;\"></div><div style=\"display: table-cell;\">margin&nbsp;=&nbsp;None,</div></div><div class=\"p12392\" style=\"display: none;\"><div style=\"display: table-cell;\"></div><div style=\"display: table-cell;\">max_height&nbsp;=&nbsp;None,</div></div><div class=\"p12392\" style=\"display: none;\"><div style=\"display: table-cell;\"></div><div style=\"display: table-cell;\">max_width&nbsp;=&nbsp;None,</div></div><div class=\"p12392\" style=\"display: none;\"><div style=\"display: table-cell;\"></div><div style=\"display: table-cell;\">min_height&nbsp;=&nbsp;None,</div></div><div class=\"p12392\" style=\"display: none;\"><div style=\"display: table-cell;\"></div><div style=\"display: table-cell;\">min_width&nbsp;=&nbsp;None,</div></div><div class=\"p12392\" style=\"display: none;\"><div style=\"display: table-cell;\"></div><div style=\"display: table-cell;\">name&nbsp;=&nbsp;None,</div></div><div class=\"p12392\" style=\"display: none;\"><div style=\"display: table-cell;\"></div><div style=\"display: table-cell;\">resizable&nbsp;=&nbsp;False,</div></div><div class=\"p12392\" style=\"display: none;\"><div style=\"display: table-cell;\"></div><div style=\"display: table-cell;\">rows&nbsp;=&nbsp;None,</div></div><div class=\"p12392\" style=\"display: none;\"><div style=\"display: table-cell;\"></div><div style=\"display: table-cell;\">sizing_mode&nbsp;=&nbsp;'stretch_width',</div></div><div class=\"p12392\" style=\"display: none;\"><div style=\"display: table-cell;\"></div><div style=\"display: table-cell;\">spacing&nbsp;=&nbsp;0,</div></div><div class=\"p12392\" style=\"display: none;\"><div style=\"display: table-cell;\"></div><div style=\"display: table-cell;\">styles&nbsp;=&nbsp;{},</div></div><div class=\"p12392\" style=\"display: none;\"><div style=\"display: table-cell;\"></div><div style=\"display: table-cell;\">stylesheets&nbsp;=&nbsp;[],</div></div><div class=\"p12392\" style=\"display: none;\"><div style=\"display: table-cell;\"></div><div style=\"display: table-cell;\">subscribed_events&nbsp;=&nbsp;PropertyValueSet(),</div></div><div class=\"p12392\" style=\"display: none;\"><div style=\"display: table-cell;\"></div><div style=\"display: table-cell;\">syncable&nbsp;=&nbsp;True,</div></div><div class=\"p12392\" style=\"display: none;\"><div style=\"display: table-cell;\"></div><div style=\"display: table-cell;\">tags&nbsp;=&nbsp;[],</div></div><div class=\"p12392\" style=\"display: none;\"><div style=\"display: table-cell;\"></div><div style=\"display: table-cell;\">toolbar&nbsp;=&nbsp;Toolbar(id='p11837', ...),</div></div><div class=\"p12392\" style=\"display: none;\"><div style=\"display: table-cell;\"></div><div style=\"display: table-cell;\">toolbar_location&nbsp;=&nbsp;'right',</div></div><div class=\"p12392\" style=\"display: none;\"><div style=\"display: table-cell;\"></div><div style=\"display: table-cell;\">visible&nbsp;=&nbsp;True,</div></div><div class=\"p12392\" style=\"display: none;\"><div style=\"display: table-cell;\"></div><div style=\"display: table-cell;\">width&nbsp;=&nbsp;None,</div></div><div class=\"p12392\" style=\"display: none;\"><div style=\"display: table-cell;\"></div><div style=\"display: table-cell;\">width_policy&nbsp;=&nbsp;'auto')</div></div></div>\n",
       "<script>\n",
       "(function() {\n",
       "  let expanded = false;\n",
       "  const ellipsis = document.getElementById(\"p12393\");\n",
       "  ellipsis.addEventListener(\"click\", function() {\n",
       "    const rows = document.getElementsByClassName(\"p12392\");\n",
       "    for (let i = 0; i < rows.length; i++) {\n",
       "      const el = rows[i];\n",
       "      el.style.display = expanded ? \"none\" : \"table-row\";\n",
       "    }\n",
       "    ellipsis.innerHTML = expanded ? \"&hellip;)\" : \"&lsaquo;&lsaquo;&lsaquo;\";\n",
       "    expanded = !expanded;\n",
       "  });\n",
       "})();\n",
       "</script>\n"
      ],
      "text/plain": [
       "GridPlot(id='p11838', ...)"
      ]
     },
     "execution_count": 272,
     "metadata": {},
     "output_type": "execute_result"
    }
   ],
   "source": [
    "bt.plot()"
   ]
  },
  {
   "attachments": {},
   "cell_type": "markdown",
   "metadata": {},
   "source": [
    "## Optimization"
   ]
  },
  {
   "cell_type": "code",
   "execution_count": null,
   "metadata": {},
   "outputs": [],
   "source": [
    "## Pick which stat to opti, add constraints and choose param\n",
    "\n",
    "stat_opti = bt.optimize(\n",
    "    rsi_period = range(10, 25, 1),\n",
    "    ma1_period = range(10, 25, 1),\n",
    "    ma2_period = range(40, 60, 1),\n",
    "    ma3_period = range(70, 150, 1),\n",
    "    fdi_period = range(5, 20, 1),\n",
    "    maximize ='Profit Factor',\n",
    "    return_heatmap= True\n",
    ")"
   ]
  },
  {
   "cell_type": "code",
   "execution_count": null,
   "metadata": {},
   "outputs": [],
   "source": [
    "hm = heatmap.groupby(['upper_bound', 'lower_bound']).mean().unstack()\n",
    "\n",
    "sns.heatmap(hm, cmap = 'viridis')\n",
    "\n",
    "plt.show()"
   ]
  },
  {
   "cell_type": "code",
   "execution_count": null,
   "metadata": {},
   "outputs": [],
   "source": [
    "## If more than 2 param to opti\n",
    "\n",
    "plot_heatmaps(heatmap, agg='mean')"
   ]
  }
 ],
 "metadata": {
  "kernelspec": {
   "display_name": "Python 3",
   "language": "python",
   "name": "python3"
  },
  "language_info": {
   "codemirror_mode": {
    "name": "ipython",
    "version": 3
   },
   "file_extension": ".py",
   "mimetype": "text/x-python",
   "name": "python",
   "nbconvert_exporter": "python",
   "pygments_lexer": "ipython3",
   "version": "3.11.0"
  },
  "orig_nbformat": 4
 },
 "nbformat": 4,
 "nbformat_minor": 2
}
